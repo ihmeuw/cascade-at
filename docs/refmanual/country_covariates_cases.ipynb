{
 "cells": [
  {
   "cell_type": "markdown",
   "metadata": {},
   "source": [
    "# Country Covariates Cases"
   ]
  },
  {
   "cell_type": "code",
   "execution_count": 35,
   "metadata": {},
   "outputs": [],
   "source": [
    "# import libraries\n",
    "from scipy.interpolate import griddata, interp2d\n",
    "\n",
    "from cascade.input_data.db.bundle import _get_bundle_data\n",
    "from cascade.input_data.configuration.construct_country import (\n",
    "    convert_gbd_ids_to_dismod_values,)\n",
    "from cascade.input_data.db.country_covariates import country_covariates\n",
    "from cascade.input_data.db.demographics import get_all_age_spans\n",
    "from cascade.testing_utilities import make_execution_context"
   ]
  },
  {
   "cell_type": "code",
   "execution_count": 18,
   "metadata": {},
   "outputs": [],
   "source": [
    "# create execution context\n",
    "execution_context = make_execution_context()\n",
    "execution_context.parameters.gbd_round_id = 5"
   ]
  },
  {
   "cell_type": "code",
   "execution_count": 19,
   "metadata": {},
   "outputs": [],
   "source": [
    "def cov_summaries(covariate, covariate_id):\n",
    "    print(f\"covariate {covariate_id}, {covariate.loc[0, 'covariate_name_short']}\")\n",
    "    print(f\"    shape: {covariate.shape}\")\n",
    "    print(f\"    location_ids: {covariate['location_id'].unique()}\")\n",
    "    print()\n",
    "    print(f\"    age_group_ids: {covariate['age_group_id'].unique()}\")\n",
    "    print()\n",
    "    print(f\"    sex_ids: {covariate['sex_id'].unique()}\")\n",
    "    print()\n",
    "    print(f\"    year_ids: {covariate['year_id'].unique()}\")\n",
    "    print()"
   ]
  },
  {
   "cell_type": "code",
   "execution_count": 23,
   "metadata": {},
   "outputs": [
    {
     "name": "stdout",
     "output_type": "stream",
     "text": [
      "age groups\n",
      "['age_group_id', 'age_group_years_start', 'age_group_years_end']\n",
      "(406, 3)\n",
      "\n",
      "covariate 26, cum_cigs_20_yr\n",
      "    shape: (1748, 7)\n",
      "    location_ids: [102]\n",
      "\n",
      "    age_group_ids: [  2   3   4   5   6   7   8   9  10  11  12  13  14  15  16  17  18  19\n",
      "  20  30  31  32 235]\n",
      "\n",
      "    sex_ids: [1 2]\n",
      "\n",
      "    year_ids: [1980 1981 1982 1983 1984 1985 1986 1987 1988 1989 1990 1991 1992 1993\n",
      " 1994 1995 1996 1997 1998 1999 2000 2001 2002 2003 2004 2005 2006 2007\n",
      " 2008 2009 2010 2011 2012 2013 2014 2015 2016 2017]\n",
      "\n",
      "covariate 14, cigarettes_pc\n",
      "    shape: (58, 7)\n",
      "    location_ids: [102]\n",
      "\n",
      "    age_group_ids: [22]\n",
      "\n",
      "    sex_ids: [3]\n",
      "\n",
      "    year_ids: [1960 1961 1962 1963 1964 1965 1966 1967 1968 1969 1970 1971 1972 1973\n",
      " 1974 1975 1976 1977 1978 1979 1980 1981 1982 1983 1984 1985 1986 1987\n",
      " 1988 1989 1990 1991 1992 1993 1994 1995 1996 1997 1998 1999 2000 2001\n",
      " 2002 2003 2004 2005 2006 2007 2008 2009 2010 2011 2012 2013 2014 2015\n",
      " 2016 2017]\n",
      "\n",
      "covariate 869, malaria_incidence\n",
      "    shape: (874, 7)\n",
      "    location_ids: [102]\n",
      "\n",
      "    age_group_ids: [  2   3   4   5   6   7   8   9  10  11  12  13  14  15  16  17  18  19\n",
      "  20  30  31  32 235]\n",
      "\n",
      "    sex_ids: [3]\n",
      "\n",
      "    year_ids: [1980 1981 1982 1983 1984 1985 1986 1987 1988 1989 1990 1991 1992 1993\n",
      " 1994 1995 1996 1997 1998 1999 2000 2001 2002 2003 2004 2005 2006 2007\n",
      " 2008 2009 2010 2011 2012 2013 2014 2015 2016 2017]\n",
      "\n",
      "covariate 258, HIV_prev_preg\n",
      "    shape: (304, 7)\n",
      "    location_ids: [102]\n",
      "\n",
      "    age_group_ids: [ 7  8  9 10 11 12 13 14]\n",
      "\n",
      "    sex_ids: [3]\n",
      "\n",
      "    year_ids: [1980 1981 1982 1983 1984 1985 1986 1987 1988 1989 1990 1991 1992 1993\n",
      " 1994 1995 1996 1997 1998 1999 2000 2001 2002 2003 2004 2005 2006 2007\n",
      " 2008 2009 2010 2011 2012 2013 2014 2015 2016 2017]\n",
      "\n",
      "covariate 68, mean_BMI\n",
      "    shape: (76, 7)\n",
      "    location_ids: [102]\n",
      "\n",
      "    age_group_ids: [22]\n",
      "\n",
      "    sex_ids: [1 2]\n",
      "\n",
      "    year_ids: [1980 1981 1982 1983 1984 1985 1986 1987 1988 1989 1990 1991 1992 1993\n",
      " 1994 1995 1996 1997 1998 1999 2000 2001 2002 2003 2004 2005 2006 2007\n",
      " 2008 2009 2010 2011 2012 2013 2014 2015 2016 2017]\n",
      "\n",
      "covariate 842, H5N1_epidemic_yrs_bin\n",
      "    shape: (38, 7)\n",
      "    location_ids: [102]\n",
      "\n",
      "    age_group_ids: [22]\n",
      "\n",
      "    sex_ids: [3]\n",
      "\n",
      "    year_ids: [1980 1981 1982 1983 1984 1985 1986 1987 1988 1989 1990 1991 1992 1993\n",
      " 1994 1995 1996 1997 1998 1999 2000 2001 2002 2003 2004 2005 2006 2007\n",
      " 2008 2009 2010 2011 2012 2013 2014 2015 2016 2017]\n",
      "\n",
      "covariate 1194, fortification_standard\n",
      "    shape: (38, 7)\n",
      "    location_ids: [102]\n",
      "\n",
      "    age_group_ids: [22]\n",
      "\n",
      "    sex_ids: [3]\n",
      "\n",
      "    year_ids: [1980 1981 1982 1983 1984 1985 1986 1987 1988 1989 1990 1991 1992 1993\n",
      " 1994 1995 1996 1997 1998 1999 2000 2001 2002 2003 2004 2005 2006 2007\n",
      " 2008 2009 2010 2011 2012 2013 2014 2015 2016 2017]\n",
      "\n",
      "covariate 1195, fortification_standard_FA\n",
      "    shape: (38, 7)\n",
      "    location_ids: [102]\n",
      "\n",
      "    age_group_ids: [22]\n",
      "\n",
      "    sex_ids: [3]\n",
      "\n",
      "    year_ids: [1980 1981 1982 1983 1984 1985 1986 1987 1988 1989 1990 1991 1992 1993\n",
      " 1994 1995 1996 1997 1998 1999 2000 2001 2002 2003 2004 2005 2006 2007\n",
      " 2008 2009 2010 2011 2012 2013 2014 2015 2016 2017]\n",
      "\n",
      "covariate 1241, fortification_standard_iron\n",
      "    shape: (38, 7)\n",
      "    location_ids: [102]\n",
      "\n",
      "    age_group_ids: [22]\n",
      "\n",
      "    sex_ids: [3]\n",
      "\n",
      "    year_ids: [1980 1981 1982 1983 1984 1985 1986 1987 1988 1989 1990 1991 1992 1993\n",
      " 1994 1995 1996 1997 1998 1999 2000 2001 2002 2003 2004 2005 2006 2007\n",
      " 2008 2009 2010 2011 2012 2013 2014 2015 2016 2017]\n",
      "\n",
      "9 covariates retrieved for the examples\n"
     ]
    }
   ],
   "source": [
    "# get covariates for USA\n",
    "location_id = 102\n",
    "demographics = dict(\n",
    "    age_group_ids=\"all\", year_ids=\"all\", sex_ids=\"all\", location_ids=[location_id]\n",
    ")\n",
    "\n",
    "age_groups = get_all_age_spans()\n",
    "print(\"age groups\")\n",
    "print(list(age_groups.columns))\n",
    "print(age_groups.shape)\n",
    "print()\n",
    "\n",
    "# covariates with no \"best\" for gbd_round_id=5 -> 1095, 1985 (so throws an error if retrieve)\n",
    "\n",
    "covariate_ids = [26, 14, 869, 258, 68, 842, 1194, 1195, 1241]\n",
    "ccovs = {}\n",
    "\n",
    "for covariate_id in covariate_ids:\n",
    "    ccov_data = country_covariates(covariate_id, demographics, execution_context.parameters.gbd_round_id)\n",
    "    ccov_ranges_df = convert_gbd_ids_to_dismod_values(ccov_data, age_groups)\n",
    "    ccov_ranges_df[\"avg_age\"] = ccov_ranges_df[[\"age_lower\", \"age_upper\"]].mean(axis=1)\n",
    "    ccov_ranges_df[\"avg_time\"] = ccov_ranges_df[[\"time_lower\", \"time_upper\"]].mean(axis=1)\n",
    "    ccovs[covariate_id] = ccov_ranges_df\n",
    "    cov_summaries(ccov_data, covariate_id)\n",
    "\n",
    "print(f\"{len(ccovs)} covariates retrieved for the examples\")"
   ]
  },
  {
   "cell_type": "code",
   "execution_count": 31,
   "metadata": {},
   "outputs": [
    {
     "name": "stdout",
     "output_type": "stream",
     "text": [
      "(874, 13)\n",
      "(874, 13)\n"
     ]
    }
   ],
   "source": [
    "# Case - Interpolate over age and time by sex -- covariate is by_age, by_sex, and has multiple time values\n",
    "# use covariate_id = 26, cum cigs 20 years\n",
    "# use measurement bundle 173\n",
    "\n",
    "ccov_26 = ccovs[26]\n",
    "ccov_26_f = ccov_26[ccov_26[\"x_sex\"] == -0.5]\n",
    "ccov_26_m = ccov_26[ccov_26[\"x_sex\"] == 0.5]\n",
    "\n",
    "print(ccov_26_f.shape)\n",
    "print(ccov_26_m.shape)\n"
   ]
  },
  {
   "cell_type": "code",
   "execution_count": 48,
   "metadata": {},
   "outputs": [
    {
     "name": "stdout",
     "output_type": "stream",
     "text": [
      "ccov_26_m, 42.5, 1980.5: \n",
      "      4919.19753090102\n",
      "ccov_26_m, 42.5, 2002.5: \n",
      "      1915.6339250152398\n"
     ]
    }
   ],
   "source": [
    "# look at covariate values\n",
    "\n",
    "print(f\"\"\"ccov_26_m, 42.5, 1980.5: \n",
    "      {float(ccov_26_m[(ccov_26_m['avg_age']==42.5) & (ccov_26_m['avg_time']==1980.5)]['mean_value'])}\"\"\")\n",
    "     \n",
    "print(f\"\"\"ccov_26_m, 42.5, 2002.5: \n",
    "      {float(ccov_26_m[(ccov_26_m['avg_age']==42.5) & (ccov_26_m['avg_time']==2002.5)]['mean_value'])}\"\"\")      \n",
    "            "
   ]
  },
  {
   "cell_type": "code",
   "execution_count": 52,
   "metadata": {},
   "outputs": [
    {
     "name": "stdout",
     "output_type": "stream",
     "text": [
      "<class 'numpy.ndarray'>\n",
      "(6,)\n",
      "[1978, 1980.5, 1985, 2002, 2003, 2003]\n",
      "[          nan 4992.91345524 4852.41067621 1958.38155127 1797.75895333\n",
      "           nan]\n"
     ]
    }
   ],
   "source": [
    "# check interpolation method - griddata\n",
    "\n",
    "age = [42,42,42,42,42,135]\n",
    "time = [1978,1980.5,1985,2002,2003,2003]\n",
    "\n",
    "griddata_m = griddata( (ccov_26_m[\"avg_age\"], ccov_26_m[\"avg_time\"]), ccov_26_m[\"mean_value\"], (age, time) )\n",
    "\n",
    "print(type(griddata_m))\n",
    "print(griddata_m.shape)\n",
    "print(time)\n",
    "print(griddata_m)"
   ]
  },
  {
   "cell_type": "code",
   "execution_count": 50,
   "metadata": {},
   "outputs": [
    {
     "name": "stdout",
     "output_type": "stream",
     "text": [
      "<class 'list'>\n",
      "4\n",
      "[1980.5, 1985, 2002, 2003]\n",
      "[array([2317.30844282]), array([2252.7845264]), array([937.74567859]), array([862.03057269])]\n"
     ]
    }
   ],
   "source": [
    "# check interpolation method - interp2d\n",
    "\n",
    "f_ccov_26_m = interp2d(ccov_26_m[\"avg_age\"], ccov_26_m[\"avg_time\"], ccov_26_m[\"mean_value\"])\n",
    "\n",
    "age = [42,42,42,42]\n",
    "time = [1980.5,1985,2002,2003]\n",
    "\n",
    "interp2d_m = []\n",
    "\n",
    "for x, y in zip(age, time):\n",
    "    interp2d_m.append(f_ccov_26_m(x, y))\n",
    "\n",
    "print(type(interp2d_m))\n",
    "print(len(interp2d_m))\n",
    "print(time)\n",
    "print(interp2d_m)"
   ]
  },
  {
   "cell_type": "code",
   "execution_count": null,
   "metadata": {},
   "outputs": [],
   "source": [
    "# Case - Measurement data has sex=both, but covariate only has values for sex=female and sex=male\n",
    "# use covariate_id = 26, cum cigs 20 years\n",
    "# use measurement bundle 173\n"
   ]
  },
  {
   "cell_type": "code",
   "execution_count": null,
   "metadata": {},
   "outputs": [],
   "source": [
    "# Case - Measurement data has a time point outside the range of the covariate\n",
    "# use covariate_id = 26, cum cigs 20 years\n",
    "# use measurement bundle 173\n"
   ]
  },
  {
   "cell_type": "code",
   "execution_count": null,
   "metadata": {},
   "outputs": [],
   "source": [
    "# Case - Measurement data has an age interval which does not overlap with the covariate age intervals\n",
    "# check these:\n",
    "# covariate_id = 258\n",
    "# covariate_id = 1095, art_coverage\n"
   ]
  },
  {
   "cell_type": "code",
   "execution_count": null,
   "metadata": {},
   "outputs": [],
   "source": [
    "# Case - Measurement data has sex=female and sex=male, but covariate is not by_sex\n",
    "# covariate_id = 14, cigs per capita\n",
    "# covariate_id = 869, malaria incidence\n"
   ]
  },
  {
   "cell_type": "code",
   "execution_count": null,
   "metadata": {},
   "outputs": [],
   "source": [
    "# Case - Interpolate over time only, because covariate is not by_age (there is only one age group - 22 or 27)\n",
    "# covariate_id = 14, cigs per capita\n",
    "# covariate_id = 68, mean_bmi\n"
   ]
  },
  {
   "cell_type": "code",
   "execution_count": null,
   "metadata": {},
   "outputs": [],
   "source": [
    "# Case - Interpolate over age only, because covariate only has values for one year (would this ever happen?)\n",
    "# make something up here\n"
   ]
  },
  {
   "cell_type": "code",
   "execution_count": null,
   "metadata": {},
   "outputs": [],
   "source": [
    "# Case - covariate is binary\n",
    "# check these: \n",
    "# covariate_id = 842\n",
    "# covariate_id = 1194\n",
    "# covariate_id = 1195\n",
    "# covariate_id = 1241\n"
   ]
  },
  {
   "cell_type": "code",
   "execution_count": 59,
   "metadata": {},
   "outputs": [
    {
     "name": "stdout",
     "output_type": "stream",
     "text": [
      "ccov 842 H5N1_epidemic_yrs_bin (min, max): 0.0, 1.0\n",
      "ccov 1194 fortification_standard (min, max): 1.0, 1.0\n",
      "ccov 1241 fortification_standard_iron (min, max): 0.0, 1.0\n"
     ]
    }
   ],
   "source": [
    "ccov_842 = ccovs[842]\n",
    "ccov_1194 = ccovs[1194]\n",
    "ccov_1241 = ccovs[1241]\n",
    "\n",
    "ccov_ids = [842, 1194, 1241]\n",
    "\n",
    "for ccov_id in ccov_ids:\n",
    "    ccov = ccovs[ccov_id]\n",
    "    print(f\"ccov {ccov_id} {ccov.loc[0, 'covariate_name_short']} (min, max): {ccov.mean_value.min()}, {ccov.mean_value.max()}\")\n"
   ]
  },
  {
   "cell_type": "code",
   "execution_count": null,
   "metadata": {},
   "outputs": [],
   "source": []
  }
 ],
 "metadata": {
  "kernelspec": {
   "display_name": "Python 3",
   "language": "python",
   "name": "python3"
  },
  "language_info": {
   "codemirror_mode": {
    "name": "ipython",
    "version": 3
   },
   "file_extension": ".py",
   "mimetype": "text/x-python",
   "name": "python",
   "nbconvert_exporter": "python",
   "pygments_lexer": "ipython3",
   "version": "3.6.3"
  }
 },
 "nbformat": 4,
 "nbformat_minor": 2
}
