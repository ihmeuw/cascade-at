{
 "cells": [
  {
   "cell_type": "code",
   "execution_count": 34,
   "metadata": {},
   "outputs": [],
   "source": [
    "from numpy.random import RandomState\n",
    "\n",
    "from cascade.executor.create_settings import SettingsChoices, create_settings\n",
    "from cascade.executor.dismodel_main import DismodAT\n",
    "from cascade.executor.execution_context import make_execution_context\n",
    "from cascade.input_data.db.locations import location_hierarchy\n",
    "\n",
    "from gridengineapp import entry"
   ]
  },
  {
   "cell_type": "code",
   "execution_count": 35,
   "metadata": {},
   "outputs": [],
   "source": [
    "# Make an execution context -- use defaults unless otherwise specified\n",
    "ec = make_execution_context()"
   ]
  },
  {
   "cell_type": "code",
   "execution_count": 36,
   "metadata": {},
   "outputs": [],
   "source": [
    "# Get the location hierarchy\n",
    "locations = location_hierarchy(gbd_round_id=6, location_set_id=35)"
   ]
  },
  {
   "cell_type": "code",
   "execution_count": 37,
   "metadata": {},
   "outputs": [],
   "source": [
    "# Create settings\n",
    "rng = RandomState(524286 + 131071)\n",
    "choices = SettingsChoices(rng, None)"
   ]
  },
  {
   "cell_type": "code",
   "execution_count": 38,
   "metadata": {},
   "outputs": [
    {
     "name": "stdout",
     "output_type": "stream",
     "text": [
      "drill [1, 31, 32] with start 1 end 32\n"
     ]
    }
   ],
   "source": [
    "settings = create_settings(choices, locations)"
   ]
  },
  {
   "cell_type": "code",
   "execution_count": 39,
   "metadata": {},
   "outputs": [
    {
     "data": {
      "text/plain": [
       "12437"
      ]
     },
     "execution_count": 39,
     "metadata": {},
     "output_type": "execute_result"
    }
   ],
   "source": [
    "settings.model.crosswalk_version_id"
   ]
  },
  {
   "cell_type": "code",
   "execution_count": 40,
   "metadata": {},
   "outputs": [],
   "source": [
    "app = DismodAT(locations, settings, ec)"
   ]
  },
  {
   "cell_type": "code",
   "execution_count": 41,
   "metadata": {},
   "outputs": [
    {
     "data": {
      "text/plain": [
       "12437"
      ]
     },
     "execution_count": 41,
     "metadata": {},
     "output_type": "execute_result"
    }
   ],
   "source": [
    "app.settings.model.crosswalk_version_id"
   ]
  },
  {
   "cell_type": "code",
   "execution_count": 42,
   "metadata": {},
   "outputs": [],
   "source": [
    "arg_list = [\n",
    "    '--no-upload', '--db-only',\n",
    "    '--base-directory', '/ihme/scratch/users/mnorwood/dismod_at_temp/',\n",
    "    '--location', '0', '--skip-cache',\n",
    "    '--recipe', 'crosswalk_version_setup',\n",
    "]"
   ]
  },
  {
   "cell_type": "code",
   "execution_count": 43,
   "metadata": {},
   "outputs": [
    {
     "name": "stderr",
     "output_type": "stream",
     "text": [
      "WARNING 19-10-17 09:56:17 /ihme/homes/mnorwood/dismod/cascade/src/cascade/runner/cascade_logging.py:94: There is no mvid, so will not write a mathlog.\n",
      "INFO 19-10-17 09:56:17 /ihme/homes/mnorwood/dismod/cascade/src/cascade/runner/cascade_logging.py:42: Code log is at /ihme/homes/mnorwood/dismod/cascade/examples/codelog\"/mnorwood/dismod/20191017-095617hUmcuXX4TSA.log\n",
      "INFO 19-10-17 09:56:17 /ihme/homes/mnorwood/dismod/cascade/src/cascade/executor/cascade_plan.py:145: drill nodes 1, 31, 32\n",
      "ERROR 19-10-17 09:56:17 /ihme/homes/mnorwood/dismod_at_test/lib/python3.6/site-packages/gridengineapp/main.py:208: RuntimeError Unknown recipe identifier RecipeIdentifier(0, bundle_setup, female)   File \"/ihme/homes/mnorwood/dismod/cascade/src/cascade/executor/job_definitions.py\", line 346, in recipe_to_jobs\n",
      "    raise RuntimeError(f\"Unknown recipe identifier {recipe_identifier}\")\n",
      "\n",
      "ERROR 19-10-17 09:56:17 /ihme/homes/mnorwood/dismod_at_test/lib/python3.6/site-packages/gridengineapp/main.py:209: Exception in app\n",
      "Traceback (most recent call last):\n",
      "  File \"/ihme/homes/mnorwood/dismod_at_test/lib/python3.6/site-packages/gridengineapp/main.py\", line 193, in grid_child_guard\n",
      "    work()\n",
      "  File \"/ihme/homes/mnorwood/dismod_at_test/lib/python3.6/site-packages/gridengineapp/main.py\", line 243, in work\n",
      "    run_jobs(app, args)\n",
      "  File \"/ihme/homes/mnorwood/dismod_at_test/lib/python3.6/site-packages/gridengineapp/main.py\", line 54, in run_jobs\n",
      "    job_graph = job_subset(app, args)\n",
      "  File \"/ihme/homes/mnorwood/dismod_at_test/lib/python3.6/site-packages/gridengineapp/graph_choice.py\", line 33, in job_subset\n",
      "    identifiers = app.job_identifiers(args)\n",
      "  File \"/ihme/homes/mnorwood/dismod/cascade/src/cascade/executor/dismodel_main.py\", line 241, in job_identifiers\n",
      "    job_graph = self.job_graph()\n",
      "  File \"/ihme/homes/mnorwood/dismod/cascade/src/cascade/executor/dismodel_main.py\", line 236, in job_graph\n",
      "    self.locations, self.settings, self.args, self.execution_context)\n",
      "  File \"/ihme/homes/mnorwood/dismod/cascade/src/cascade/executor/job_definitions.py\", line 352, in job_graph_from_settings\n",
      "    add_job_list(recipe_graph, execution_context)\n",
      "  File \"/ihme/homes/mnorwood/dismod/cascade/src/cascade/executor/job_definitions.py\", line 373, in add_job_list\n",
      "    execution_context,\n",
      "  File \"/ihme/homes/mnorwood/dismod/cascade/src/cascade/executor/job_definitions.py\", line 346, in recipe_to_jobs\n",
      "    raise RuntimeError(f\"Unknown recipe identifier {recipe_identifier}\")\n",
      "RuntimeError: Unknown recipe identifier RecipeIdentifier(0, bundle_setup, female)\n"
     ]
    },
    {
     "data": {
      "text/plain": [
       "100"
      ]
     },
     "execution_count": 43,
     "metadata": {},
     "output_type": "execute_result"
    }
   ],
   "source": [
    "entry(app, arg_list)"
   ]
  },
  {
   "cell_type": "code",
   "execution_count": null,
   "metadata": {},
   "outputs": [],
   "source": []
  }
 ],
 "metadata": {
  "kernelspec": {
   "display_name": "Python 3",
   "language": "python",
   "name": "python3"
  },
  "language_info": {
   "codemirror_mode": {
    "name": "ipython",
    "version": 3
   },
   "file_extension": ".py",
   "mimetype": "text/x-python",
   "name": "python",
   "nbconvert_exporter": "python",
   "pygments_lexer": "ipython3",
   "version": "3.6.9"
  }
 },
 "nbformat": 4,
 "nbformat_minor": 4
}
